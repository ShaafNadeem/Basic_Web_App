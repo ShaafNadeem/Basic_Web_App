{
 "cells": [
  {
   "cell_type": "code",
   "execution_count": 5,
   "metadata": {},
   "outputs": [
    {
     "name": "stdout",
     "output_type": "stream",
     "text": [
      "1-rest\n",
      "2-play\n",
      "3-travel\n",
      "4-cook\n",
      "Bye!\n"
     ]
    }
   ],
   "source": [
    "while True:\n",
    "    user_action = input('Type add, show, edit, complete or exit:')\n",
    "    user_action = user_action.strip()\n",
    "    match user_action:\n",
    "        case 'add':\n",
    "            todo = input('Enter a todo:')+'\\n'\n",
    "            with open ('text.txt','r') as file:\n",
    "                todos = file.readlines()\n",
    "\n",
    "            todos.append(todo)\n",
    "\n",
    "            with open ('text.txt','w') as file:\n",
    "                todos = file.writelines(todos)\n",
    "        case 'show':\n",
    "            with open ('text.txt','r') as file:\n",
    "                todos = file.readlines()\n",
    "            for index,item in enumerate(todos):\n",
    "                item = item.strip('\\n')\n",
    "                row = f'{index+1}-{item}'\n",
    "                print(row)\n",
    "        case 'edit':\n",
    "            number = int(input('Number of the todo to ed0it:0'))\n",
    "            index = number -1\n",
    "            with open ('text.txt','r') as file:\n",
    "                todos = file.readlines()\n",
    "            \n",
    "            new_todo = input('Enter new todo:')\n",
    "            todos[index] = new_todo + '\\n'\n",
    "            \n",
    "            with open ('text.txt','w') as file:\n",
    "                todos = file.writelines(todos)\n",
    "        case 'complete':\n",
    "            number = int(input('Number of the todo to complete:'))\n",
    "            index = number -1\n",
    "\n",
    "            with open ('text.txt','r') as file:\n",
    "                todos = file.readlines()\n",
    "            \n",
    "            todo_to_remove = todos[index].strip('\\n') \n",
    "            todos.pop(index)\n",
    "\n",
    "            with open ('text.txt','w') as file:\n",
    "                todos = file.writelines(todos)\n",
    "\n",
    "            message = f'{todo_to_remove} is removed from your list.'\n",
    "            print(message)\n",
    "        case 'exit':\n",
    "            break\n",
    "print('Bye!')"
   ]
  },
  {
   "cell_type": "code",
   "execution_count": null,
   "metadata": {},
   "outputs": [],
   "source": []
  },
  {
   "cell_type": "code",
   "execution_count": null,
   "metadata": {},
   "outputs": [],
   "source": []
  }
 ],
 "metadata": {
  "kernelspec": {
   "display_name": "Python 3",
   "language": "python",
   "name": "python3"
  },
  "language_info": {
   "codemirror_mode": {
    "name": "ipython",
    "version": 3
   },
   "file_extension": ".py",
   "mimetype": "text/x-python",
   "name": "python",
   "nbconvert_exporter": "python",
   "pygments_lexer": "ipython3",
   "version": "3.10.7"
  },
  "orig_nbformat": 4
 },
 "nbformat": 4,
 "nbformat_minor": 2
}
